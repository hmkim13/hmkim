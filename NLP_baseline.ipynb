{
  "nbformat": 4,
  "nbformat_minor": 0,
  "metadata": {
    "colab": {
      "name": "NLP_baseline.ipynb",
      "provenance": [],
      "collapsed_sections": []
    },
    "kernelspec": {
      "name": "python3",
      "display_name": "Python 3"
    }
  },
  "cells": [
    {
      "cell_type": "markdown",
      "metadata": {
        "id": "aOBFUTQsIuw_"
      },
      "source": [
        "드라이브 마운트"
      ]
    },
    {
      "cell_type": "code",
      "metadata": {
        "colab": {
          "base_uri": "https://localhost:8080/"
        },
        "id": "N2k2OG7oIvC9",
        "outputId": "94d40260-4ec8-4ebf-fd8b-c7a53e8bd7d9"
      },
      "source": [
        "from google.colab import drive\n",
        "drive.mount('/content/drive')"
      ],
      "execution_count": 1,
      "outputs": [
        {
          "output_type": "stream",
          "text": [
            "Mounted at /content/drive\n"
          ],
          "name": "stdout"
        }
      ]
    },
    {
      "cell_type": "markdown",
      "metadata": {
        "id": "mqhjcc3GGzqQ"
      },
      "source": [
        "패키지 설치"
      ]
    },
    {
      "cell_type": "code",
      "metadata": {
        "id": "tlCiInG9GuvZ"
      },
      "source": [
        "import re\n",
        "import numpy as np\n",
        "import pandas as pd\n",
        "import tensorflow as tf\n",
        "from tensorflow.keras.preprocessing.sequence import pad_sequences\n",
        "from tensorflow.keras.preprocessing.text import Tokenizer\n",
        "import warnings \n",
        "warnings.filterwarnings(action='ignore')"
      ],
      "execution_count": 2,
      "outputs": []
    },
    {
      "cell_type": "markdown",
      "metadata": {
        "id": "D5lgas-_JaA1"
      },
      "source": [
        "경로 설정 및 파일 불러오기"
      ]
    },
    {
      "cell_type": "code",
      "metadata": {
        "id": "2kZxXjfCKKMP",
        "colab": {
          "base_uri": "https://localhost:8080/"
        },
        "outputId": "14efc10c-b0ed-474e-8ad5-d1e6643ba23e"
      },
      "source": [
        "!unzip -q '/content/drive/My Drive/open.zip' -d '/content/drive/My Drive/NLP/'"
      ],
      "execution_count": 3,
      "outputs": [
        {
          "output_type": "stream",
          "text": [
            "replace /content/drive/My Drive/NLP/sample_submission.csv? [y]es, [n]o, [A]ll, [N]one, [r]ename: y\n",
            "replace /content/drive/My Drive/NLP/test_x.csv? [y]es, [n]o, [A]ll, [N]one, [r]ename: y\n",
            "replace /content/drive/My Drive/NLP/train.csv? [y]es, [n]o, [A]ll, [N]one, [r]ename: y\n"
          ],
          "name": "stdout"
        }
      ]
    },
    {
      "cell_type": "markdown",
      "metadata": {
        "id": "dfuSllYG_hgl"
      },
      "source": [
        ""
      ]
    },
    {
      "cell_type": "code",
      "metadata": {
        "id": "AgtlgEsMKajx"
      },
      "source": [
        "train = pd.read_csv('/content/drive/My Drive/NLP/train.csv', encoding = 'utf-8')\n",
        "test = pd.read_csv('/content/drive/My Drive/NLP/test_x.csv', encoding = 'utf-8')\n",
        "sample_submission = pd.read_csv('/content/drive/My Drive/NLP/sample_submission.csv', encoding = 'utf-8')"
      ],
      "execution_count": 4,
      "outputs": []
    },
    {
      "cell_type": "code",
      "metadata": {
        "colab": {
          "base_uri": "https://localhost:8080/",
          "height": 419
        },
        "id": "ft83ojdlKkVZ",
        "outputId": "144c3211-7958-4787-eb12-5f279f4838d5"
      },
      "source": [
        "train"
      ],
      "execution_count": 5,
      "outputs": [
        {
          "output_type": "execute_result",
          "data": {
            "text/html": [
              "<div>\n",
              "<style scoped>\n",
              "    .dataframe tbody tr th:only-of-type {\n",
              "        vertical-align: middle;\n",
              "    }\n",
              "\n",
              "    .dataframe tbody tr th {\n",
              "        vertical-align: top;\n",
              "    }\n",
              "\n",
              "    .dataframe thead th {\n",
              "        text-align: right;\n",
              "    }\n",
              "</style>\n",
              "<table border=\"1\" class=\"dataframe\">\n",
              "  <thead>\n",
              "    <tr style=\"text-align: right;\">\n",
              "      <th></th>\n",
              "      <th>index</th>\n",
              "      <th>text</th>\n",
              "      <th>author</th>\n",
              "    </tr>\n",
              "  </thead>\n",
              "  <tbody>\n",
              "    <tr>\n",
              "      <th>0</th>\n",
              "      <td>0</td>\n",
              "      <td>He was almost choking. There was so much, so m...</td>\n",
              "      <td>3</td>\n",
              "    </tr>\n",
              "    <tr>\n",
              "      <th>1</th>\n",
              "      <td>1</td>\n",
              "      <td>“Your sister asked for it, I suppose?”</td>\n",
              "      <td>2</td>\n",
              "    </tr>\n",
              "    <tr>\n",
              "      <th>2</th>\n",
              "      <td>2</td>\n",
              "      <td>She was engaged one day as she walked, in per...</td>\n",
              "      <td>1</td>\n",
              "    </tr>\n",
              "    <tr>\n",
              "      <th>3</th>\n",
              "      <td>3</td>\n",
              "      <td>The captain was in the porch, keeping himself ...</td>\n",
              "      <td>4</td>\n",
              "    </tr>\n",
              "    <tr>\n",
              "      <th>4</th>\n",
              "      <td>4</td>\n",
              "      <td>“Have mercy, gentlemen!” odin flung up his han...</td>\n",
              "      <td>3</td>\n",
              "    </tr>\n",
              "    <tr>\n",
              "      <th>...</th>\n",
              "      <td>...</td>\n",
              "      <td>...</td>\n",
              "      <td>...</td>\n",
              "    </tr>\n",
              "    <tr>\n",
              "      <th>54874</th>\n",
              "      <td>54874</td>\n",
              "      <td>“Is that you, Mr. Smith?” odin whispered. “I h...</td>\n",
              "      <td>2</td>\n",
              "    </tr>\n",
              "    <tr>\n",
              "      <th>54875</th>\n",
              "      <td>54875</td>\n",
              "      <td>I told my plan to the captain, and between us ...</td>\n",
              "      <td>4</td>\n",
              "    </tr>\n",
              "    <tr>\n",
              "      <th>54876</th>\n",
              "      <td>54876</td>\n",
              "      <td>\"Your sincere well-wisher, friend, and sister...</td>\n",
              "      <td>1</td>\n",
              "    </tr>\n",
              "    <tr>\n",
              "      <th>54877</th>\n",
              "      <td>54877</td>\n",
              "      <td>“Then you wanted me to lend you money?”</td>\n",
              "      <td>3</td>\n",
              "    </tr>\n",
              "    <tr>\n",
              "      <th>54878</th>\n",
              "      <td>54878</td>\n",
              "      <td>It certainly had not occurred to me before, bu...</td>\n",
              "      <td>0</td>\n",
              "    </tr>\n",
              "  </tbody>\n",
              "</table>\n",
              "<p>54879 rows × 3 columns</p>\n",
              "</div>"
            ],
            "text/plain": [
              "       index                                               text  author\n",
              "0          0  He was almost choking. There was so much, so m...       3\n",
              "1          1             “Your sister asked for it, I suppose?”       2\n",
              "2          2   She was engaged one day as she walked, in per...       1\n",
              "3          3  The captain was in the porch, keeping himself ...       4\n",
              "4          4  “Have mercy, gentlemen!” odin flung up his han...       3\n",
              "...      ...                                                ...     ...\n",
              "54874  54874  “Is that you, Mr. Smith?” odin whispered. “I h...       2\n",
              "54875  54875  I told my plan to the captain, and between us ...       4\n",
              "54876  54876   \"Your sincere well-wisher, friend, and sister...       1\n",
              "54877  54877            “Then you wanted me to lend you money?”       3\n",
              "54878  54878  It certainly had not occurred to me before, bu...       0\n",
              "\n",
              "[54879 rows x 3 columns]"
            ]
          },
          "metadata": {
            "tags": []
          },
          "execution_count": 5
        }
      ]
    },
    {
      "cell_type": "code",
      "metadata": {
        "colab": {
          "base_uri": "https://localhost:8080/",
          "height": 419
        },
        "id": "o6-aKbDhKmni",
        "outputId": "68e0194b-3e68-426d-ff9a-319e29b3b5ea"
      },
      "source": [
        "test"
      ],
      "execution_count": 6,
      "outputs": [
        {
          "output_type": "execute_result",
          "data": {
            "text/html": [
              "<div>\n",
              "<style scoped>\n",
              "    .dataframe tbody tr th:only-of-type {\n",
              "        vertical-align: middle;\n",
              "    }\n",
              "\n",
              "    .dataframe tbody tr th {\n",
              "        vertical-align: top;\n",
              "    }\n",
              "\n",
              "    .dataframe thead th {\n",
              "        text-align: right;\n",
              "    }\n",
              "</style>\n",
              "<table border=\"1\" class=\"dataframe\">\n",
              "  <thead>\n",
              "    <tr style=\"text-align: right;\">\n",
              "      <th></th>\n",
              "      <th>index</th>\n",
              "      <th>text</th>\n",
              "    </tr>\n",
              "  </thead>\n",
              "  <tbody>\n",
              "    <tr>\n",
              "      <th>0</th>\n",
              "      <td>0</td>\n",
              "      <td>“Not at all. I think she is one of the most ch...</td>\n",
              "    </tr>\n",
              "    <tr>\n",
              "      <th>1</th>\n",
              "      <td>1</td>\n",
              "      <td>\"No,\" replied he, with sudden consciousness, \"...</td>\n",
              "    </tr>\n",
              "    <tr>\n",
              "      <th>2</th>\n",
              "      <td>2</td>\n",
              "      <td>As the lady had stated her intention of scream...</td>\n",
              "    </tr>\n",
              "    <tr>\n",
              "      <th>3</th>\n",
              "      <td>3</td>\n",
              "      <td>“And then suddenly in the silence I heard a so...</td>\n",
              "    </tr>\n",
              "    <tr>\n",
              "      <th>4</th>\n",
              "      <td>4</td>\n",
              "      <td>His conviction remained unchanged. So far as I...</td>\n",
              "    </tr>\n",
              "    <tr>\n",
              "      <th>...</th>\n",
              "      <td>...</td>\n",
              "      <td>...</td>\n",
              "    </tr>\n",
              "    <tr>\n",
              "      <th>19612</th>\n",
              "      <td>19612</td>\n",
              "      <td>At the end of another day or two, odin growing...</td>\n",
              "    </tr>\n",
              "    <tr>\n",
              "      <th>19613</th>\n",
              "      <td>19613</td>\n",
              "      <td>All afternoon we sat together, mostly in silen...</td>\n",
              "    </tr>\n",
              "    <tr>\n",
              "      <th>19614</th>\n",
              "      <td>19614</td>\n",
              "      <td>odin, having carried his thanks to odin, proc...</td>\n",
              "    </tr>\n",
              "    <tr>\n",
              "      <th>19615</th>\n",
              "      <td>19615</td>\n",
              "      <td>Soon after this, upon odin's leaving the room,...</td>\n",
              "    </tr>\n",
              "    <tr>\n",
              "      <th>19616</th>\n",
              "      <td>19616</td>\n",
              "      <td>And all the worse for the doomed man, that the...</td>\n",
              "    </tr>\n",
              "  </tbody>\n",
              "</table>\n",
              "<p>19617 rows × 2 columns</p>\n",
              "</div>"
            ],
            "text/plain": [
              "       index                                               text\n",
              "0          0  “Not at all. I think she is one of the most ch...\n",
              "1          1  \"No,\" replied he, with sudden consciousness, \"...\n",
              "2          2  As the lady had stated her intention of scream...\n",
              "3          3  “And then suddenly in the silence I heard a so...\n",
              "4          4  His conviction remained unchanged. So far as I...\n",
              "...      ...                                                ...\n",
              "19612  19612  At the end of another day or two, odin growing...\n",
              "19613  19613  All afternoon we sat together, mostly in silen...\n",
              "19614  19614   odin, having carried his thanks to odin, proc...\n",
              "19615  19615  Soon after this, upon odin's leaving the room,...\n",
              "19616  19616  And all the worse for the doomed man, that the...\n",
              "\n",
              "[19617 rows x 2 columns]"
            ]
          },
          "metadata": {
            "tags": []
          },
          "execution_count": 6
        }
      ]
    },
    {
      "cell_type": "code",
      "metadata": {
        "colab": {
          "base_uri": "https://localhost:8080/",
          "height": 419
        },
        "id": "uPchKvEmKojf",
        "outputId": "41bc5634-e53e-4006-a103-82a6453c7ad8"
      },
      "source": [
        "sample_submission"
      ],
      "execution_count": 7,
      "outputs": [
        {
          "output_type": "execute_result",
          "data": {
            "text/html": [
              "<div>\n",
              "<style scoped>\n",
              "    .dataframe tbody tr th:only-of-type {\n",
              "        vertical-align: middle;\n",
              "    }\n",
              "\n",
              "    .dataframe tbody tr th {\n",
              "        vertical-align: top;\n",
              "    }\n",
              "\n",
              "    .dataframe thead th {\n",
              "        text-align: right;\n",
              "    }\n",
              "</style>\n",
              "<table border=\"1\" class=\"dataframe\">\n",
              "  <thead>\n",
              "    <tr style=\"text-align: right;\">\n",
              "      <th></th>\n",
              "      <th>index</th>\n",
              "      <th>0</th>\n",
              "      <th>1</th>\n",
              "      <th>2</th>\n",
              "      <th>3</th>\n",
              "      <th>4</th>\n",
              "    </tr>\n",
              "  </thead>\n",
              "  <tbody>\n",
              "    <tr>\n",
              "      <th>0</th>\n",
              "      <td>0</td>\n",
              "      <td>0</td>\n",
              "      <td>0</td>\n",
              "      <td>0</td>\n",
              "      <td>0</td>\n",
              "      <td>0</td>\n",
              "    </tr>\n",
              "    <tr>\n",
              "      <th>1</th>\n",
              "      <td>1</td>\n",
              "      <td>0</td>\n",
              "      <td>0</td>\n",
              "      <td>0</td>\n",
              "      <td>0</td>\n",
              "      <td>0</td>\n",
              "    </tr>\n",
              "    <tr>\n",
              "      <th>2</th>\n",
              "      <td>2</td>\n",
              "      <td>0</td>\n",
              "      <td>0</td>\n",
              "      <td>0</td>\n",
              "      <td>0</td>\n",
              "      <td>0</td>\n",
              "    </tr>\n",
              "    <tr>\n",
              "      <th>3</th>\n",
              "      <td>3</td>\n",
              "      <td>0</td>\n",
              "      <td>0</td>\n",
              "      <td>0</td>\n",
              "      <td>0</td>\n",
              "      <td>0</td>\n",
              "    </tr>\n",
              "    <tr>\n",
              "      <th>4</th>\n",
              "      <td>4</td>\n",
              "      <td>0</td>\n",
              "      <td>0</td>\n",
              "      <td>0</td>\n",
              "      <td>0</td>\n",
              "      <td>0</td>\n",
              "    </tr>\n",
              "    <tr>\n",
              "      <th>...</th>\n",
              "      <td>...</td>\n",
              "      <td>...</td>\n",
              "      <td>...</td>\n",
              "      <td>...</td>\n",
              "      <td>...</td>\n",
              "      <td>...</td>\n",
              "    </tr>\n",
              "    <tr>\n",
              "      <th>19612</th>\n",
              "      <td>19612</td>\n",
              "      <td>0</td>\n",
              "      <td>0</td>\n",
              "      <td>0</td>\n",
              "      <td>0</td>\n",
              "      <td>0</td>\n",
              "    </tr>\n",
              "    <tr>\n",
              "      <th>19613</th>\n",
              "      <td>19613</td>\n",
              "      <td>0</td>\n",
              "      <td>0</td>\n",
              "      <td>0</td>\n",
              "      <td>0</td>\n",
              "      <td>0</td>\n",
              "    </tr>\n",
              "    <tr>\n",
              "      <th>19614</th>\n",
              "      <td>19614</td>\n",
              "      <td>0</td>\n",
              "      <td>0</td>\n",
              "      <td>0</td>\n",
              "      <td>0</td>\n",
              "      <td>0</td>\n",
              "    </tr>\n",
              "    <tr>\n",
              "      <th>19615</th>\n",
              "      <td>19615</td>\n",
              "      <td>0</td>\n",
              "      <td>0</td>\n",
              "      <td>0</td>\n",
              "      <td>0</td>\n",
              "      <td>0</td>\n",
              "    </tr>\n",
              "    <tr>\n",
              "      <th>19616</th>\n",
              "      <td>19616</td>\n",
              "      <td>0</td>\n",
              "      <td>0</td>\n",
              "      <td>0</td>\n",
              "      <td>0</td>\n",
              "      <td>0</td>\n",
              "    </tr>\n",
              "  </tbody>\n",
              "</table>\n",
              "<p>19617 rows × 6 columns</p>\n",
              "</div>"
            ],
            "text/plain": [
              "       index  0  1  2  3  4\n",
              "0          0  0  0  0  0  0\n",
              "1          1  0  0  0  0  0\n",
              "2          2  0  0  0  0  0\n",
              "3          3  0  0  0  0  0\n",
              "4          4  0  0  0  0  0\n",
              "...      ... .. .. .. .. ..\n",
              "19612  19612  0  0  0  0  0\n",
              "19613  19613  0  0  0  0  0\n",
              "19614  19614  0  0  0  0  0\n",
              "19615  19615  0  0  0  0  0\n",
              "19616  19616  0  0  0  0  0\n",
              "\n",
              "[19617 rows x 6 columns]"
            ]
          },
          "metadata": {
            "tags": []
          },
          "execution_count": 7
        }
      ]
    },
    {
      "cell_type": "markdown",
      "metadata": {
        "id": "EkVb6xigKrPb"
      },
      "source": [
        "전처리"
      ]
    },
    {
      "cell_type": "code",
      "metadata": {
        "id": "x_PFyNrCHE7L"
      },
      "source": [
        "#부호를 제거해주는 함수\n",
        "def alpha_num(text):\n",
        "    return re.sub(r'[^A-Za-z0-9 ]', '', text)\n",
        "\n",
        "train['text']=train['text'].apply(alpha_num)"
      ],
      "execution_count": 8,
      "outputs": []
    },
    {
      "cell_type": "code",
      "metadata": {
        "colab": {
          "base_uri": "https://localhost:8080/",
          "height": 419
        },
        "id": "Ut55bWIYKucO",
        "outputId": "f444d82b-fcd0-465f-a54d-1667b13e2bec"
      },
      "source": [
        "#부호가 사라진 것을 확인할 수 있습니다.\n",
        "train"
      ],
      "execution_count": 9,
      "outputs": [
        {
          "output_type": "execute_result",
          "data": {
            "text/html": [
              "<div>\n",
              "<style scoped>\n",
              "    .dataframe tbody tr th:only-of-type {\n",
              "        vertical-align: middle;\n",
              "    }\n",
              "\n",
              "    .dataframe tbody tr th {\n",
              "        vertical-align: top;\n",
              "    }\n",
              "\n",
              "    .dataframe thead th {\n",
              "        text-align: right;\n",
              "    }\n",
              "</style>\n",
              "<table border=\"1\" class=\"dataframe\">\n",
              "  <thead>\n",
              "    <tr style=\"text-align: right;\">\n",
              "      <th></th>\n",
              "      <th>index</th>\n",
              "      <th>text</th>\n",
              "      <th>author</th>\n",
              "    </tr>\n",
              "  </thead>\n",
              "  <tbody>\n",
              "    <tr>\n",
              "      <th>0</th>\n",
              "      <td>0</td>\n",
              "      <td>He was almost choking There was so much so muc...</td>\n",
              "      <td>3</td>\n",
              "    </tr>\n",
              "    <tr>\n",
              "      <th>1</th>\n",
              "      <td>1</td>\n",
              "      <td>Your sister asked for it I suppose</td>\n",
              "      <td>2</td>\n",
              "    </tr>\n",
              "    <tr>\n",
              "      <th>2</th>\n",
              "      <td>2</td>\n",
              "      <td>She was engaged one day as she walked in peru...</td>\n",
              "      <td>1</td>\n",
              "    </tr>\n",
              "    <tr>\n",
              "      <th>3</th>\n",
              "      <td>3</td>\n",
              "      <td>The captain was in the porch keeping himself c...</td>\n",
              "      <td>4</td>\n",
              "    </tr>\n",
              "    <tr>\n",
              "      <th>4</th>\n",
              "      <td>4</td>\n",
              "      <td>Have mercy gentlemen odin flung up his hands D...</td>\n",
              "      <td>3</td>\n",
              "    </tr>\n",
              "    <tr>\n",
              "      <th>...</th>\n",
              "      <td>...</td>\n",
              "      <td>...</td>\n",
              "      <td>...</td>\n",
              "    </tr>\n",
              "    <tr>\n",
              "      <th>54874</th>\n",
              "      <td>54874</td>\n",
              "      <td>Is that you Mr Smith odin whispered I hardly d...</td>\n",
              "      <td>2</td>\n",
              "    </tr>\n",
              "    <tr>\n",
              "      <th>54875</th>\n",
              "      <td>54875</td>\n",
              "      <td>I told my plan to the captain and between us w...</td>\n",
              "      <td>4</td>\n",
              "    </tr>\n",
              "    <tr>\n",
              "      <th>54876</th>\n",
              "      <td>54876</td>\n",
              "      <td>Your sincere wellwisher friend and sister LUC...</td>\n",
              "      <td>1</td>\n",
              "    </tr>\n",
              "    <tr>\n",
              "      <th>54877</th>\n",
              "      <td>54877</td>\n",
              "      <td>Then you wanted me to lend you money</td>\n",
              "      <td>3</td>\n",
              "    </tr>\n",
              "    <tr>\n",
              "      <th>54878</th>\n",
              "      <td>54878</td>\n",
              "      <td>It certainly had not occurred to me before but...</td>\n",
              "      <td>0</td>\n",
              "    </tr>\n",
              "  </tbody>\n",
              "</table>\n",
              "<p>54879 rows × 3 columns</p>\n",
              "</div>"
            ],
            "text/plain": [
              "       index                                               text  author\n",
              "0          0  He was almost choking There was so much so muc...       3\n",
              "1          1                 Your sister asked for it I suppose       2\n",
              "2          2   She was engaged one day as she walked in peru...       1\n",
              "3          3  The captain was in the porch keeping himself c...       4\n",
              "4          4  Have mercy gentlemen odin flung up his hands D...       3\n",
              "...      ...                                                ...     ...\n",
              "54874  54874  Is that you Mr Smith odin whispered I hardly d...       2\n",
              "54875  54875  I told my plan to the captain and between us w...       4\n",
              "54876  54876   Your sincere wellwisher friend and sister LUC...       1\n",
              "54877  54877               Then you wanted me to lend you money       3\n",
              "54878  54878  It certainly had not occurred to me before but...       0\n",
              "\n",
              "[54879 rows x 3 columns]"
            ]
          },
          "metadata": {
            "tags": []
          },
          "execution_count": 9
        }
      ]
    },
    {
      "cell_type": "code",
      "metadata": {
        "id": "sQdJQa-4Kuew"
      },
      "source": [
        "# 불용어 제거해주는 함수\n",
        "def remove_stopwords(text):\n",
        "    final_text = []\n",
        "    for i in text.split():\n",
        "        if i.strip().lower() not in stopwords:\n",
        "            final_text.append(i.strip())\n",
        "    return \" \".join(final_text)\n",
        "\n",
        "# 불용어\n",
        "stopwords = [ \"a\", \"about\", \"above\", \"after\", \"again\", \"against\", \"all\", \"am\", \"an\", \"and\", \"any\", \"are\", \"as\", \n",
        "             \"at\", \"be\", \"because\", \"been\", \"before\", \"being\", \"below\", \"between\", \"both\", \"but\", \"by\", \"could\", \n",
        "             \"did\", \"do\", \"does\", \"doing\", \"down\", \"during\", \"each\", \"few\", \"for\", \"from\", \"further\", \"had\", \"has\", \n",
        "             \"have\", \"having\", \"he\", \"he'd\", \"he'll\", \"he's\", \"her\", \"here\", \"here's\", \"hers\", \"herself\", \"him\", \"himself\", \n",
        "             \"his\", \"how\", \"how's\", \"i\", \"i'd\", \"i'll\", \"i'm\", \"i've\", \"if\", \"in\", \"into\", \"is\", \"it\", \"it's\", \"its\", \"itself\", \n",
        "             \"let's\", \"me\", \"more\", \"most\", \"my\", \"myself\", \"nor\", \"of\", \"on\", \"once\", \"only\", \"or\", \"other\", \"ought\", \"our\", \"ours\", \n",
        "             \"ourselves\", \"out\", \"over\", \"own\", \"same\", \"she\", \"she'd\", \"she'll\", \"she's\", \"should\", \"so\", \"some\", \"such\", \"than\", \"that\", \n",
        "             \"that's\", \"the\", \"their\", \"theirs\", \"them\", \"themselves\", \"then\", \"there\", \"there's\", \"these\", \"they\", \"they'd\", \"they'll\", \n",
        "             \"they're\", \"they've\", \"this\", \"those\", \"through\", \"to\", \"too\", \"under\", \"until\", \"up\", \"very\", \"was\", \"we\", \"we'd\", \"we'll\", \n",
        "             \"we're\", \"we've\", \"were\", \"what\", \"what's\", \"when\", \"when's\", \"where\", \"where's\", \"which\", \"while\", \"who\", \"who's\", \"whom\", \n",
        "             \"why\", \"why's\", \"with\", \"would\", \"you\", \"you'd\", \"you'll\", \"you're\", \"you've\", \"your\", \"yours\", \"yourself\", \"yourselves\" ]"
      ],
      "execution_count": 10,
      "outputs": []
    },
    {
      "cell_type": "code",
      "metadata": {
        "id": "MoVp3aB3KuZn"
      },
      "source": [
        "#전처리 적용\n",
        "train['text'] = train['text'].str.lower()\n",
        "test['text'] = test['text'].str.lower()\n",
        "train['text'] = train['text'].str.lower().apply(alpha_num).apply(remove_stopwords)\n",
        "test['text'] = test['text'].str.lower().apply(alpha_num).apply(remove_stopwords)"
      ],
      "execution_count": 11,
      "outputs": []
    },
    {
      "cell_type": "code",
      "metadata": {
        "id": "s3rtCsSbKy2f"
      },
      "source": [
        "# train test 분리\n",
        "X_train = np.array([x for x in train['text']])\n",
        "X_test = np.array([x for x in test['text']])\n",
        "y_train = np.array([x for x in train['author']])"
      ],
      "execution_count": 12,
      "outputs": []
    },
    {
      "cell_type": "code",
      "metadata": {
        "colab": {
          "base_uri": "https://localhost:8080/"
        },
        "id": "R3DmL4cqKz3b",
        "outputId": "a9534779-3174-4254-d79f-8f69b259cfb9"
      },
      "source": [
        "X_train"
      ],
      "execution_count": 13,
      "outputs": [
        {
          "output_type": "execute_result",
          "data": {
            "text/plain": [
              "array(['almost choking much much wanted say strange exclamations came lips pole gazed fixedly bundle notes hand looked odin evident perplexity',\n",
              "       'sister asked suppose',\n",
              "       'engaged one day walked perusing janes last letter dwelling passages proved jane not written spirits instead surprised mr odin saw looking odin meeting putting away letter immediately forcing smile said',\n",
              "       ..., 'sincere wellwisher friend sister lucy odin',\n",
              "       'wanted lend money', 'certainly not occurred said yes like'],\n",
              "      dtype='<U1433')"
            ]
          },
          "metadata": {
            "tags": []
          },
          "execution_count": 13
        }
      ]
    },
    {
      "cell_type": "markdown",
      "metadata": {
        "id": "qMcsfoDFK1NX"
      },
      "source": [
        "모델링"
      ]
    },
    {
      "cell_type": "code",
      "metadata": {
        "id": "z1rQ7-dPK2Kx"
      },
      "source": [
        "#파라미터 설정\n",
        "vocab_size = 20000\n",
        "embedding_dim = 64\n",
        "max_length = 500\n",
        "padding_type='post'\n",
        "#oov_tok = \"<OOV>\""
      ],
      "execution_count": 14,
      "outputs": []
    },
    {
      "cell_type": "code",
      "metadata": {
        "id": "8k89UK8XK3cK"
      },
      "source": [
        "#tokenizer에 fit\n",
        "tokenizer = Tokenizer(num_words = vocab_size)#, oov_token=oov_tok)\n",
        "tokenizer.fit_on_texts(X_train)\n",
        "word_index = tokenizer.word_index"
      ],
      "execution_count": 15,
      "outputs": []
    },
    {
      "cell_type": "code",
      "metadata": {
        "id": "eUsMUuR9K4Wi"
      },
      "source": [
        "#데이터를 sequence로 변환해주고 padding 해줍니다.\n",
        "train_sequences = tokenizer.texts_to_sequences(X_train)\n",
        "train_padded = pad_sequences(train_sequences, padding=padding_type, maxlen=max_length)\n",
        "\n",
        "test_sequences = tokenizer.texts_to_sequences(X_test)\n",
        "test_padded = pad_sequences(test_sequences, padding=padding_type, maxlen=max_length)"
      ],
      "execution_count": 16,
      "outputs": []
    },
    {
      "cell_type": "code",
      "metadata": {
        "id": "ss99k0JYK459"
      },
      "source": [
        "#가벼운 NLP모델 생성\n",
        "model = tf.keras.Sequential([\n",
        "    tf.keras.layers.Embedding(vocab_size, embedding_dim, input_length=max_length),\n",
        "    tf.keras.layers.GlobalAveragePooling1D(),\n",
        "    tf.keras.layers.Dense(24, activation='relu'),\n",
        "    tf.keras.layers.Dense(5, activation='softmax')\n",
        "])"
      ],
      "execution_count": 17,
      "outputs": []
    },
    {
      "cell_type": "code",
      "metadata": {
        "colab": {
          "base_uri": "https://localhost:8080/"
        },
        "id": "NhGMv15aK53f",
        "outputId": "d57a4a89-3a56-449c-cbaa-76d61e8b98be"
      },
      "source": [
        "# compile model\n",
        "model.compile(loss='sparse_categorical_crossentropy',\n",
        "              optimizer='adam',\n",
        "              metrics=['accuracy'])\n",
        "\n",
        "# model summary\n",
        "print(model.summary())"
      ],
      "execution_count": 18,
      "outputs": [
        {
          "output_type": "stream",
          "text": [
            "Model: \"sequential\"\n",
            "_________________________________________________________________\n",
            "Layer (type)                 Output Shape              Param #   \n",
            "=================================================================\n",
            "embedding (Embedding)        (None, 500, 64)           1280000   \n",
            "_________________________________________________________________\n",
            "global_average_pooling1d (Gl (None, 64)                0         \n",
            "_________________________________________________________________\n",
            "dense (Dense)                (None, 24)                1560      \n",
            "_________________________________________________________________\n",
            "dense_1 (Dense)              (None, 5)                 125       \n",
            "=================================================================\n",
            "Total params: 1,281,685\n",
            "Trainable params: 1,281,685\n",
            "Non-trainable params: 0\n",
            "_________________________________________________________________\n",
            "None\n"
          ],
          "name": "stdout"
        }
      ]
    },
    {
      "cell_type": "code",
      "metadata": {
        "colab": {
          "base_uri": "https://localhost:8080/"
        },
        "id": "xWzDd_QtK7qa",
        "outputId": "35caa45f-5d14-4509-f87d-d89880f6a95e"
      },
      "source": [
        "# fit model\n",
        "num_epochs = 100\n",
        "history = model.fit(train_padded, y_train, \n",
        "                    epochs=num_epochs, verbose=2, \n",
        "                    validation_split=0.2)"
      ],
      "execution_count": 20,
      "outputs": [
        {
          "output_type": "stream",
          "text": [
            "Epoch 1/100\n",
            "1372/1372 - 24s - loss: 0.4712 - accuracy: 0.8288 - val_loss: 0.8149 - val_accuracy: 0.7086\n",
            "Epoch 2/100\n",
            "1372/1372 - 23s - loss: 0.4575 - accuracy: 0.8345 - val_loss: 0.7996 - val_accuracy: 0.7199\n",
            "Epoch 3/100\n",
            "1372/1372 - 22s - loss: 0.4408 - accuracy: 0.8406 - val_loss: 0.8134 - val_accuracy: 0.7206\n",
            "Epoch 4/100\n",
            "1372/1372 - 21s - loss: 0.4280 - accuracy: 0.8458 - val_loss: 0.8306 - val_accuracy: 0.7220\n",
            "Epoch 5/100\n",
            "1372/1372 - 21s - loss: 0.4172 - accuracy: 0.8481 - val_loss: 0.8213 - val_accuracy: 0.7269\n",
            "Epoch 6/100\n",
            "1372/1372 - 22s - loss: 0.4064 - accuracy: 0.8534 - val_loss: 0.8437 - val_accuracy: 0.7167\n",
            "Epoch 7/100\n",
            "1372/1372 - 22s - loss: 0.3974 - accuracy: 0.8557 - val_loss: 0.8466 - val_accuracy: 0.7248\n",
            "Epoch 8/100\n",
            "1372/1372 - 22s - loss: 0.3876 - accuracy: 0.8587 - val_loss: 0.8680 - val_accuracy: 0.7249\n",
            "Epoch 9/100\n",
            "1372/1372 - 23s - loss: 0.3818 - accuracy: 0.8617 - val_loss: 0.8714 - val_accuracy: 0.7200\n",
            "Epoch 10/100\n",
            "1372/1372 - 22s - loss: 0.3714 - accuracy: 0.8662 - val_loss: 0.8831 - val_accuracy: 0.7228\n",
            "Epoch 11/100\n",
            "1372/1372 - 22s - loss: 0.3624 - accuracy: 0.8702 - val_loss: 1.0452 - val_accuracy: 0.6990\n",
            "Epoch 12/100\n",
            "1372/1372 - 22s - loss: 0.3624 - accuracy: 0.8677 - val_loss: 0.9050 - val_accuracy: 0.7225\n",
            "Epoch 13/100\n",
            "1372/1372 - 22s - loss: 0.3486 - accuracy: 0.8742 - val_loss: 0.9245 - val_accuracy: 0.7211\n",
            "Epoch 14/100\n",
            "1372/1372 - 22s - loss: 0.3430 - accuracy: 0.8750 - val_loss: 0.9311 - val_accuracy: 0.7198\n",
            "Epoch 15/100\n",
            "1372/1372 - 22s - loss: 0.3361 - accuracy: 0.8774 - val_loss: 1.0065 - val_accuracy: 0.6947\n",
            "Epoch 16/100\n",
            "1372/1372 - 24s - loss: 0.3294 - accuracy: 0.8811 - val_loss: 0.9619 - val_accuracy: 0.7190\n",
            "Epoch 17/100\n",
            "1372/1372 - 23s - loss: 0.3195 - accuracy: 0.8842 - val_loss: 1.0426 - val_accuracy: 0.7058\n",
            "Epoch 18/100\n",
            "1372/1372 - 22s - loss: 0.3148 - accuracy: 0.8860 - val_loss: 0.9868 - val_accuracy: 0.7184\n",
            "Epoch 19/100\n",
            "1372/1372 - 22s - loss: 0.3089 - accuracy: 0.8886 - val_loss: 0.9938 - val_accuracy: 0.7179\n",
            "Epoch 20/100\n",
            "1372/1372 - 22s - loss: 0.3038 - accuracy: 0.8905 - val_loss: 1.0127 - val_accuracy: 0.7189\n",
            "Epoch 21/100\n",
            "1372/1372 - 22s - loss: 0.2970 - accuracy: 0.8919 - val_loss: 1.0392 - val_accuracy: 0.7137\n",
            "Epoch 22/100\n",
            "1372/1372 - 22s - loss: 0.2935 - accuracy: 0.8942 - val_loss: 1.0172 - val_accuracy: 0.7225\n",
            "Epoch 23/100\n",
            "1372/1372 - 22s - loss: 0.2893 - accuracy: 0.8948 - val_loss: 1.1325 - val_accuracy: 0.7045\n",
            "Epoch 24/100\n",
            "1372/1372 - 22s - loss: 0.2803 - accuracy: 0.8978 - val_loss: 1.1064 - val_accuracy: 0.7048\n",
            "Epoch 25/100\n",
            "1372/1372 - 22s - loss: 0.2784 - accuracy: 0.8983 - val_loss: 1.0806 - val_accuracy: 0.7218\n",
            "Epoch 26/100\n",
            "1372/1372 - 22s - loss: 0.2693 - accuracy: 0.9030 - val_loss: 1.0720 - val_accuracy: 0.7198\n",
            "Epoch 27/100\n",
            "1372/1372 - 22s - loss: 0.2668 - accuracy: 0.9030 - val_loss: 1.1097 - val_accuracy: 0.7126\n",
            "Epoch 28/100\n",
            "1372/1372 - 22s - loss: 0.2618 - accuracy: 0.9048 - val_loss: 1.1058 - val_accuracy: 0.7149\n",
            "Epoch 29/100\n",
            "1372/1372 - 22s - loss: 0.2609 - accuracy: 0.9034 - val_loss: 1.1155 - val_accuracy: 0.7163\n",
            "Epoch 30/100\n",
            "1372/1372 - 24s - loss: 0.2556 - accuracy: 0.9067 - val_loss: 1.1300 - val_accuracy: 0.7165\n",
            "Epoch 31/100\n",
            "1372/1372 - 24s - loss: 0.2559 - accuracy: 0.9063 - val_loss: 1.1946 - val_accuracy: 0.7032\n",
            "Epoch 32/100\n",
            "1372/1372 - 23s - loss: 0.2507 - accuracy: 0.9083 - val_loss: 1.1567 - val_accuracy: 0.7162\n",
            "Epoch 33/100\n",
            "1372/1372 - 22s - loss: 0.2453 - accuracy: 0.9107 - val_loss: 1.1774 - val_accuracy: 0.7154\n",
            "Epoch 34/100\n",
            "1372/1372 - 22s - loss: 0.2420 - accuracy: 0.9116 - val_loss: 1.1699 - val_accuracy: 0.7164\n",
            "Epoch 35/100\n",
            "1372/1372 - 22s - loss: 0.2394 - accuracy: 0.9125 - val_loss: 1.1708 - val_accuracy: 0.7198\n",
            "Epoch 36/100\n",
            "1372/1372 - 22s - loss: 0.2368 - accuracy: 0.9122 - val_loss: 1.2082 - val_accuracy: 0.7070\n",
            "Epoch 37/100\n",
            "1372/1372 - 22s - loss: 0.2374 - accuracy: 0.9130 - val_loss: 1.2044 - val_accuracy: 0.7157\n",
            "Epoch 38/100\n",
            "1372/1372 - 22s - loss: 0.2342 - accuracy: 0.9141 - val_loss: 1.2128 - val_accuracy: 0.7178\n",
            "Epoch 39/100\n",
            "1372/1372 - 22s - loss: 0.2327 - accuracy: 0.9144 - val_loss: 1.3085 - val_accuracy: 0.7108\n",
            "Epoch 40/100\n",
            "1372/1372 - 22s - loss: 0.2281 - accuracy: 0.9152 - val_loss: 1.2419 - val_accuracy: 0.7177\n",
            "Epoch 41/100\n",
            "1372/1372 - 22s - loss: 0.2239 - accuracy: 0.9170 - val_loss: 1.2766 - val_accuracy: 0.7106\n",
            "Epoch 42/100\n",
            "1372/1372 - 22s - loss: 0.2234 - accuracy: 0.9173 - val_loss: 1.2701 - val_accuracy: 0.7179\n",
            "Epoch 43/100\n",
            "1372/1372 - 22s - loss: 0.2278 - accuracy: 0.9159 - val_loss: 1.2897 - val_accuracy: 0.7081\n",
            "Epoch 44/100\n",
            "1372/1372 - 23s - loss: 0.2220 - accuracy: 0.9180 - val_loss: 1.2706 - val_accuracy: 0.7166\n",
            "Epoch 45/100\n",
            "1372/1372 - 23s - loss: 0.2210 - accuracy: 0.9176 - val_loss: 1.3037 - val_accuracy: 0.7155\n",
            "Epoch 46/100\n",
            "1372/1372 - 22s - loss: 0.2169 - accuracy: 0.9194 - val_loss: 1.2988 - val_accuracy: 0.7144\n",
            "Epoch 47/100\n",
            "1372/1372 - 21s - loss: 0.2188 - accuracy: 0.9184 - val_loss: 1.3109 - val_accuracy: 0.7131\n",
            "Epoch 48/100\n",
            "1372/1372 - 21s - loss: 0.2154 - accuracy: 0.9203 - val_loss: 1.3199 - val_accuracy: 0.7121\n",
            "Epoch 49/100\n",
            "1372/1372 - 22s - loss: 0.2139 - accuracy: 0.9214 - val_loss: 1.3446 - val_accuracy: 0.7140\n",
            "Epoch 50/100\n",
            "1372/1372 - 22s - loss: 0.2169 - accuracy: 0.9203 - val_loss: 1.3716 - val_accuracy: 0.7091\n",
            "Epoch 51/100\n",
            "1372/1372 - 22s - loss: 0.2123 - accuracy: 0.9216 - val_loss: 1.4605 - val_accuracy: 0.6983\n",
            "Epoch 52/100\n",
            "1372/1372 - 22s - loss: 0.2121 - accuracy: 0.9208 - val_loss: 1.3876 - val_accuracy: 0.7122\n",
            "Epoch 53/100\n",
            "1372/1372 - 21s - loss: 0.2090 - accuracy: 0.9228 - val_loss: 1.4215 - val_accuracy: 0.7016\n",
            "Epoch 54/100\n",
            "1372/1372 - 21s - loss: 0.2091 - accuracy: 0.9217 - val_loss: 1.4459 - val_accuracy: 0.7031\n",
            "Epoch 55/100\n",
            "1372/1372 - 22s - loss: 0.2077 - accuracy: 0.9231 - val_loss: 1.4880 - val_accuracy: 0.6853\n",
            "Epoch 56/100\n",
            "1372/1372 - 22s - loss: 0.2064 - accuracy: 0.9227 - val_loss: 1.4476 - val_accuracy: 0.7090\n",
            "Epoch 57/100\n",
            "1372/1372 - 24s - loss: 0.2017 - accuracy: 0.9258 - val_loss: 1.4212 - val_accuracy: 0.7074\n",
            "Epoch 58/100\n",
            "1372/1372 - 24s - loss: 0.2040 - accuracy: 0.9239 - val_loss: 1.4615 - val_accuracy: 0.7045\n",
            "Epoch 59/100\n",
            "1372/1372 - 23s - loss: 0.2027 - accuracy: 0.9245 - val_loss: 1.4463 - val_accuracy: 0.7060\n",
            "Epoch 60/100\n",
            "1372/1372 - 26s - loss: 0.2022 - accuracy: 0.9240 - val_loss: 1.4685 - val_accuracy: 0.7011\n",
            "Epoch 61/100\n",
            "1372/1372 - 23s - loss: 0.1976 - accuracy: 0.9264 - val_loss: 1.4903 - val_accuracy: 0.6991\n",
            "Epoch 62/100\n",
            "1372/1372 - 23s - loss: 0.2013 - accuracy: 0.9247 - val_loss: 1.5150 - val_accuracy: 0.6919\n",
            "Epoch 63/100\n",
            "1372/1372 - 23s - loss: 0.2030 - accuracy: 0.9242 - val_loss: 1.4783 - val_accuracy: 0.7038\n",
            "Epoch 64/100\n",
            "1372/1372 - 24s - loss: 0.2007 - accuracy: 0.9244 - val_loss: 1.4938 - val_accuracy: 0.7061\n",
            "Epoch 65/100\n",
            "1372/1372 - 23s - loss: 0.1971 - accuracy: 0.9268 - val_loss: 1.4867 - val_accuracy: 0.7071\n",
            "Epoch 66/100\n",
            "1372/1372 - 23s - loss: 0.1971 - accuracy: 0.9262 - val_loss: 1.6003 - val_accuracy: 0.6909\n",
            "Epoch 67/100\n",
            "1372/1372 - 23s - loss: 0.1983 - accuracy: 0.9264 - val_loss: 1.5532 - val_accuracy: 0.6978\n",
            "Epoch 68/100\n",
            "1372/1372 - 23s - loss: 0.1964 - accuracy: 0.9264 - val_loss: 1.5948 - val_accuracy: 0.7005\n",
            "Epoch 69/100\n",
            "1372/1372 - 23s - loss: 0.1956 - accuracy: 0.9267 - val_loss: 1.5360 - val_accuracy: 0.7023\n",
            "Epoch 70/100\n",
            "1372/1372 - 23s - loss: 0.1959 - accuracy: 0.9254 - val_loss: 1.5846 - val_accuracy: 0.6909\n",
            "Epoch 71/100\n",
            "1372/1372 - 23s - loss: 0.1968 - accuracy: 0.9265 - val_loss: 1.5659 - val_accuracy: 0.6985\n",
            "Epoch 72/100\n",
            "1372/1372 - 23s - loss: 0.1963 - accuracy: 0.9269 - val_loss: 1.5893 - val_accuracy: 0.6930\n",
            "Epoch 73/100\n",
            "1372/1372 - 23s - loss: 0.1936 - accuracy: 0.9284 - val_loss: 1.5713 - val_accuracy: 0.7001\n",
            "Epoch 74/100\n",
            "1372/1372 - 23s - loss: 0.1912 - accuracy: 0.9297 - val_loss: 1.6561 - val_accuracy: 0.6843\n",
            "Epoch 75/100\n",
            "1372/1372 - 22s - loss: 0.1922 - accuracy: 0.9275 - val_loss: 1.6844 - val_accuracy: 0.6876\n",
            "Epoch 76/100\n",
            "1372/1372 - 23s - loss: 0.1903 - accuracy: 0.9283 - val_loss: 1.5895 - val_accuracy: 0.7001\n",
            "Epoch 77/100\n",
            "1372/1372 - 24s - loss: 0.1882 - accuracy: 0.9293 - val_loss: 1.6003 - val_accuracy: 0.6962\n",
            "Epoch 78/100\n",
            "1372/1372 - 24s - loss: 0.1902 - accuracy: 0.9285 - val_loss: 1.6185 - val_accuracy: 0.6935\n",
            "Epoch 79/100\n",
            "1372/1372 - 23s - loss: 0.1902 - accuracy: 0.9287 - val_loss: 1.6309 - val_accuracy: 0.6919\n",
            "Epoch 80/100\n",
            "1372/1372 - 22s - loss: 0.1917 - accuracy: 0.9290 - val_loss: 1.6517 - val_accuracy: 0.6990\n",
            "Epoch 81/100\n",
            "1372/1372 - 23s - loss: 0.1898 - accuracy: 0.9288 - val_loss: 1.6345 - val_accuracy: 0.6985\n",
            "Epoch 82/100\n",
            "1372/1372 - 23s - loss: 0.1886 - accuracy: 0.9288 - val_loss: 1.6346 - val_accuracy: 0.6983\n",
            "Epoch 83/100\n",
            "1372/1372 - 23s - loss: 0.1902 - accuracy: 0.9285 - val_loss: 1.6869 - val_accuracy: 0.6837\n",
            "Epoch 84/100\n",
            "1372/1372 - 22s - loss: 0.1864 - accuracy: 0.9295 - val_loss: 1.6735 - val_accuracy: 0.6975\n",
            "Epoch 85/100\n",
            "1372/1372 - 22s - loss: 0.1850 - accuracy: 0.9305 - val_loss: 1.7189 - val_accuracy: 0.6928\n",
            "Epoch 86/100\n",
            "1372/1372 - 23s - loss: 0.1873 - accuracy: 0.9292 - val_loss: 1.7074 - val_accuracy: 0.6822\n",
            "Epoch 87/100\n",
            "1372/1372 - 23s - loss: 0.1867 - accuracy: 0.9301 - val_loss: 1.7138 - val_accuracy: 0.6887\n",
            "Epoch 88/100\n",
            "1372/1372 - 23s - loss: 0.1832 - accuracy: 0.9321 - val_loss: 1.7180 - val_accuracy: 0.6916\n",
            "Epoch 89/100\n",
            "1372/1372 - 23s - loss: 0.1847 - accuracy: 0.9304 - val_loss: 1.7367 - val_accuracy: 0.6807\n",
            "Epoch 90/100\n",
            "1372/1372 - 23s - loss: 0.1831 - accuracy: 0.9317 - val_loss: 1.7213 - val_accuracy: 0.6896\n",
            "Epoch 91/100\n",
            "1372/1372 - 24s - loss: 0.1856 - accuracy: 0.9302 - val_loss: 1.7062 - val_accuracy: 0.6962\n",
            "Epoch 92/100\n",
            "1372/1372 - 23s - loss: 0.1866 - accuracy: 0.9297 - val_loss: 1.7516 - val_accuracy: 0.6851\n",
            "Epoch 93/100\n",
            "1372/1372 - 24s - loss: 0.1827 - accuracy: 0.9322 - val_loss: 1.7264 - val_accuracy: 0.6891\n",
            "Epoch 94/100\n",
            "1372/1372 - 24s - loss: 0.1836 - accuracy: 0.9306 - val_loss: 1.7108 - val_accuracy: 0.6949\n",
            "Epoch 95/100\n",
            "1372/1372 - 23s - loss: 0.1803 - accuracy: 0.9323 - val_loss: 1.7654 - val_accuracy: 0.6845\n",
            "Epoch 96/100\n",
            "1372/1372 - 23s - loss: 0.1849 - accuracy: 0.9307 - val_loss: 1.7316 - val_accuracy: 0.6912\n",
            "Epoch 97/100\n",
            "1372/1372 - 23s - loss: 0.1813 - accuracy: 0.9317 - val_loss: 1.7431 - val_accuracy: 0.6885\n",
            "Epoch 98/100\n",
            "1372/1372 - 23s - loss: 0.1798 - accuracy: 0.9314 - val_loss: 1.7819 - val_accuracy: 0.6893\n",
            "Epoch 99/100\n",
            "1372/1372 - 23s - loss: 0.1821 - accuracy: 0.9311 - val_loss: 1.7718 - val_accuracy: 0.6889\n",
            "Epoch 100/100\n",
            "1372/1372 - 23s - loss: 0.1782 - accuracy: 0.9320 - val_loss: 1.7900 - val_accuracy: 0.6876\n"
          ],
          "name": "stdout"
        }
      ]
    },
    {
      "cell_type": "code",
      "metadata": {
        "colab": {
          "base_uri": "https://localhost:8080/"
        },
        "id": "uhPzdcwKK8yo",
        "outputId": "b84be0a8-e7fb-4521-c827-71406d9bd47e"
      },
      "source": [
        "# predict values\n",
        "pred = model.predict_proba(test_padded)"
      ],
      "execution_count": 21,
      "outputs": [
        {
          "output_type": "stream",
          "text": [
            "WARNING:tensorflow:From <ipython-input-21-9e01c6cf1b05>:2: Sequential.predict_proba (from tensorflow.python.keras.engine.sequential) is deprecated and will be removed after 2021-01-01.\n",
            "Instructions for updating:\n",
            "Please use `model.predict()` instead.\n"
          ],
          "name": "stdout"
        }
      ]
    },
    {
      "cell_type": "code",
      "metadata": {
        "colab": {
          "base_uri": "https://localhost:8080/"
        },
        "id": "-v442acuK9k9",
        "outputId": "cd1ac259-afd7-4675-ab1b-0049982ce35c"
      },
      "source": [
        "pred"
      ],
      "execution_count": 22,
      "outputs": [
        {
          "output_type": "execute_result",
          "data": {
            "text/plain": [
              "array([[1.9217322e-11, 1.0657001e-03, 3.6651248e-01, 6.3242185e-01,\n",
              "        1.0029633e-10],\n",
              "       [5.6270674e-06, 2.2112215e-03, 9.3159889e-04, 9.9684441e-01,\n",
              "        7.1080781e-06],\n",
              "       [1.0000000e+00, 7.1525151e-16, 4.5353072e-18, 3.2461979e-19,\n",
              "        3.8889053e-15],\n",
              "       ...,\n",
              "       [6.1654626e-13, 1.0000000e+00, 1.9514051e-13, 3.1563524e-13,\n",
              "        6.4095347e-18],\n",
              "       [6.5121075e-11, 1.0000000e+00, 4.0540352e-13, 3.4949284e-14,\n",
              "        2.8960204e-11],\n",
              "       [1.0000000e+00, 8.5089526e-19, 2.2025474e-17, 3.6213160e-17,\n",
              "        1.4860668e-16]], dtype=float32)"
            ]
          },
          "metadata": {
            "tags": []
          },
          "execution_count": 22
        }
      ]
    },
    {
      "cell_type": "markdown",
      "metadata": {
        "id": "Os_6bxpSLAZE"
      },
      "source": [
        "제출"
      ]
    },
    {
      "cell_type": "code",
      "metadata": {
        "colab": {
          "base_uri": "https://localhost:8080/",
          "height": 419
        },
        "id": "0sCzGVS9K-nh",
        "outputId": "bf2460c2-e16c-4dc7-90bf-2dff503f82bc"
      },
      "source": [
        "# submission\n",
        "sample_submission[['0','1','2','3','4']] = pred\n",
        "sample_submission"
      ],
      "execution_count": 23,
      "outputs": [
        {
          "output_type": "execute_result",
          "data": {
            "text/html": [
              "<div>\n",
              "<style scoped>\n",
              "    .dataframe tbody tr th:only-of-type {\n",
              "        vertical-align: middle;\n",
              "    }\n",
              "\n",
              "    .dataframe tbody tr th {\n",
              "        vertical-align: top;\n",
              "    }\n",
              "\n",
              "    .dataframe thead th {\n",
              "        text-align: right;\n",
              "    }\n",
              "</style>\n",
              "<table border=\"1\" class=\"dataframe\">\n",
              "  <thead>\n",
              "    <tr style=\"text-align: right;\">\n",
              "      <th></th>\n",
              "      <th>index</th>\n",
              "      <th>0</th>\n",
              "      <th>1</th>\n",
              "      <th>2</th>\n",
              "      <th>3</th>\n",
              "      <th>4</th>\n",
              "    </tr>\n",
              "  </thead>\n",
              "  <tbody>\n",
              "    <tr>\n",
              "      <th>0</th>\n",
              "      <td>0</td>\n",
              "      <td>1.921732e-11</td>\n",
              "      <td>1.065700e-03</td>\n",
              "      <td>3.665125e-01</td>\n",
              "      <td>6.324219e-01</td>\n",
              "      <td>1.002963e-10</td>\n",
              "    </tr>\n",
              "    <tr>\n",
              "      <th>1</th>\n",
              "      <td>1</td>\n",
              "      <td>5.627067e-06</td>\n",
              "      <td>2.211221e-03</td>\n",
              "      <td>9.315989e-04</td>\n",
              "      <td>9.968444e-01</td>\n",
              "      <td>7.108078e-06</td>\n",
              "    </tr>\n",
              "    <tr>\n",
              "      <th>2</th>\n",
              "      <td>2</td>\n",
              "      <td>1.000000e+00</td>\n",
              "      <td>7.152515e-16</td>\n",
              "      <td>4.535307e-18</td>\n",
              "      <td>3.246198e-19</td>\n",
              "      <td>3.888905e-15</td>\n",
              "    </tr>\n",
              "    <tr>\n",
              "      <th>3</th>\n",
              "      <td>3</td>\n",
              "      <td>2.225493e-16</td>\n",
              "      <td>5.429704e-32</td>\n",
              "      <td>9.999605e-01</td>\n",
              "      <td>8.120219e-19</td>\n",
              "      <td>3.940853e-05</td>\n",
              "    </tr>\n",
              "    <tr>\n",
              "      <th>4</th>\n",
              "      <td>4</td>\n",
              "      <td>1.244883e-02</td>\n",
              "      <td>4.911875e-16</td>\n",
              "      <td>8.761579e-08</td>\n",
              "      <td>9.875512e-01</td>\n",
              "      <td>2.146003e-16</td>\n",
              "    </tr>\n",
              "    <tr>\n",
              "      <th>...</th>\n",
              "      <td>...</td>\n",
              "      <td>...</td>\n",
              "      <td>...</td>\n",
              "      <td>...</td>\n",
              "      <td>...</td>\n",
              "      <td>...</td>\n",
              "    </tr>\n",
              "    <tr>\n",
              "      <th>19612</th>\n",
              "      <td>19612</td>\n",
              "      <td>4.287311e-07</td>\n",
              "      <td>9.999995e-01</td>\n",
              "      <td>2.082235e-27</td>\n",
              "      <td>2.034445e-16</td>\n",
              "      <td>3.750827e-28</td>\n",
              "    </tr>\n",
              "    <tr>\n",
              "      <th>19613</th>\n",
              "      <td>19613</td>\n",
              "      <td>2.584100e-06</td>\n",
              "      <td>8.309962e-24</td>\n",
              "      <td>2.011517e-21</td>\n",
              "      <td>6.792680e-37</td>\n",
              "      <td>9.999974e-01</td>\n",
              "    </tr>\n",
              "    <tr>\n",
              "      <th>19614</th>\n",
              "      <td>19614</td>\n",
              "      <td>6.165463e-13</td>\n",
              "      <td>1.000000e+00</td>\n",
              "      <td>1.951405e-13</td>\n",
              "      <td>3.156352e-13</td>\n",
              "      <td>6.409535e-18</td>\n",
              "    </tr>\n",
              "    <tr>\n",
              "      <th>19615</th>\n",
              "      <td>19615</td>\n",
              "      <td>6.512108e-11</td>\n",
              "      <td>1.000000e+00</td>\n",
              "      <td>4.054035e-13</td>\n",
              "      <td>3.494928e-14</td>\n",
              "      <td>2.896020e-11</td>\n",
              "    </tr>\n",
              "    <tr>\n",
              "      <th>19616</th>\n",
              "      <td>19616</td>\n",
              "      <td>1.000000e+00</td>\n",
              "      <td>8.508953e-19</td>\n",
              "      <td>2.202547e-17</td>\n",
              "      <td>3.621316e-17</td>\n",
              "      <td>1.486067e-16</td>\n",
              "    </tr>\n",
              "  </tbody>\n",
              "</table>\n",
              "<p>19617 rows × 6 columns</p>\n",
              "</div>"
            ],
            "text/plain": [
              "       index             0  ...             3             4\n",
              "0          0  1.921732e-11  ...  6.324219e-01  1.002963e-10\n",
              "1          1  5.627067e-06  ...  9.968444e-01  7.108078e-06\n",
              "2          2  1.000000e+00  ...  3.246198e-19  3.888905e-15\n",
              "3          3  2.225493e-16  ...  8.120219e-19  3.940853e-05\n",
              "4          4  1.244883e-02  ...  9.875512e-01  2.146003e-16\n",
              "...      ...           ...  ...           ...           ...\n",
              "19612  19612  4.287311e-07  ...  2.034445e-16  3.750827e-28\n",
              "19613  19613  2.584100e-06  ...  6.792680e-37  9.999974e-01\n",
              "19614  19614  6.165463e-13  ...  3.156352e-13  6.409535e-18\n",
              "19615  19615  6.512108e-11  ...  3.494928e-14  2.896020e-11\n",
              "19616  19616  1.000000e+00  ...  3.621316e-17  1.486067e-16\n",
              "\n",
              "[19617 rows x 6 columns]"
            ]
          },
          "metadata": {
            "tags": []
          },
          "execution_count": 23
        }
      ]
    },
    {
      "cell_type": "code",
      "metadata": {
        "id": "fe0KkAKrK_78"
      },
      "source": [
        "sample_submission.to_csv('submission.csv', index = False, encoding = 'utf-8')"
      ],
      "execution_count": 24,
      "outputs": []
    },
    {
      "cell_type": "code",
      "metadata": {
        "id": "rwNrfyC6LDIQ"
      },
      "source": [
        ""
      ],
      "execution_count": null,
      "outputs": []
    }
  ]
}